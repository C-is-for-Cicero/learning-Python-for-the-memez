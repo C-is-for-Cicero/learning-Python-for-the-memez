{
 "cells": [
  {
   "cell_type": "markdown",
   "metadata": {},
   "source": [
    "# Plotting graphs using bokhe\n",
    "## Basic graph"
   ]
  },
  {
   "cell_type": "code",
   "execution_count": 21,
   "metadata": {},
   "outputs": [],
   "source": [
    "from bokeh.plotting import figure\n",
    "from bokeh.io import output_file,show\n",
    "import pandas as pd\n",
    "\n",
    "df1=pd.read_csv(\"data.csv\")\n",
    "\n",
    "x=df1[\"x\"]\n",
    "x=df1[\"y\"]\n",
    "\n",
    "output_file(\"linegraph.html\")\n",
    "\n",
    "fig1 = figure()\n",
    "fig1.line(x,y)\n",
    "\n",
    "show(fig)\n",
    "\n",
    "df2=pd.read_csv(\"http://pythonhow.com/data/bachelors.csv\")\n",
    "year=df2[\"Year\"]\n",
    "engineering=df2[\"Engineering\"]\n",
    "\n",
    "fig2 = figure()\n",
    "fig2.line(year,engineering)\n",
    "fig2.title.text=\"Year vs Engineering\"\n",
    "fig2.title.text_color=\"Gray\"\n",
    "fig2.title.text_font=\"times\"\n",
    "fig2.title.text_font_style=\"bold\"\n",
    "fig2.xaxis.axis_label=\"Year\"\n",
    "fig2.yaxis.axis_label=\"Engineering\"\n",
    "\n",
    "output_file(\"year_eng.html\")\n",
    "\n",
    "show(fig2)"
   ]
  },
  {
   "cell_type": "markdown",
   "metadata": {},
   "source": [
    "## Circle plot"
   ]
  },
  {
   "cell_type": "code",
   "execution_count": 25,
   "metadata": {},
   "outputs": [],
   "source": [
    "df3=pd.read_excel(\"http://pythonhow.com/data/verlegenhuken.xlsx\")\n",
    "temp=df3[\"Temperature\"]/10\n",
    "pressure=df3[\"Pressure\"]/10\n",
    "\n",
    "fig3=figure()\n",
    "fig3.circle(temp,pressure,size=0.5)\n",
    "\n",
    "fig3.title.text=\"Temperature and Air Pressure\"\n",
    "fig3.title.text_color=\"Gray\"\n",
    "fig3.title.text_font=\"times\"\n",
    "fig3.title.text_font_style=\"bold\"\n",
    "fig3.xaxis.axis_label=\"Temperature (C)\"\n",
    "fig3.yaxis.axis_label=\"Pressure\"\n",
    "\n",
    "output_file(\"temp_pressure.html\")\n",
    "\n",
    "show(fig3)"
   ]
  },
  {
   "cell_type": "code",
   "execution_count": null,
   "metadata": {},
   "outputs": [],
   "source": [
    "# for more styling tips: https://docs.bokeh.org/en/latest/docs/user_guide/styling.html"
   ]
  }
 ],
 "metadata": {
  "kernelspec": {
   "display_name": "Python 3",
   "language": "python",
   "name": "python3"
  },
  "language_info": {
   "codemirror_mode": {
    "name": "ipython",
    "version": 3
   },
   "file_extension": ".py",
   "mimetype": "text/x-python",
   "name": "python",
   "nbconvert_exporter": "python",
   "pygments_lexer": "ipython3",
   "version": "3.8.3"
  }
 },
 "nbformat": 4,
 "nbformat_minor": 4
}
